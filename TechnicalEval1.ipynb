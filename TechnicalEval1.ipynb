{
 "cells": [
  {
   "cell_type": "code",
   "execution_count": 2,
   "metadata": {},
   "outputs": [],
   "source": [
    "import pandas as pd\n",
    "import numpy as np\n",
    "import matplotlib.pyplot as plt\n",
    "import statistics\n",
    "%matplotlib inline"
   ]
  },
  {
   "cell_type": "code",
   "execution_count": 3,
   "metadata": {},
   "outputs": [],
   "source": [
    "df = pd.read_csv(\"plane_crashes_data.csv\")"
   ]
  },
  {
   "cell_type": "code",
   "execution_count": 4,
   "metadata": {},
   "outputs": [
    {
     "name": "stdout",
     "output_type": "stream",
     "text": [
      "   month hour  year                         location  \\\n",
      "0      1   12  1950              Near Vacas, Bolivia   \n",
      "1      3   20  1950           Minneapolis, Minnesota   \n",
      "2      3   14  1950  Llandow Airport, Cardiff, Wales   \n",
      "3      4   23  1950               Near Atsugi, Japan   \n",
      "4      5   20  1950    Lagens Air Force Base, Azores   \n",
      "\n",
      "                        operator                          route  \\\n",
      "0  Military - Bolivian Air Force      Valle grande - Cochabamba   \n",
      "1      Northwest Orient Airlines  Rochester Minn. - Minneapolis   \n",
      "2                Fairflight Ltd.               Llandow - Dublin   \n",
      "3      Military - U.S. Air Force            Philippines - Japan   \n",
      "4      Military - U.S. Air Force              Bermuda - England   \n",
      "\n",
      "               type  aboard  fatalities  \\\n",
      "0      Douglas C-47      32          32   \n",
      "1        Martin 202      13          13   \n",
      "2  Avro 689 Tudor 5      83          80   \n",
      "3     Douglas C-54D      35          35   \n",
      "4       Boeing B-29      16          16   \n",
      "\n",
      "                                             summary  \n",
      "0  Crashed while en route in the Andes mountains ...  \n",
      "1  Crashed into a flag pole, well marked by red n...  \n",
      "2  During the approach to Runway 28 at Llandow Ai...  \n",
      "3  Flew off its prescribed course and crashed int...  \n",
      "4  Crashed while attempting to land after being d...  \n"
     ]
    }
   ],
   "source": [
    "print(df.head())"
   ]
  },
  {
   "cell_type": "markdown",
   "metadata": {},
   "source": [
    "What is the mean for number of people killed in plane crashes for the years 1980 to 2009 (inclusive of both years, rounded to the nearest 100th decimal place)?"
   ]
  },
  {
   "cell_type": "code",
   "execution_count": 10,
   "metadata": {},
   "outputs": [],
   "source": [
    "sum_fatls=0\n",
    "i=0\n",
    "crashes=0\n",
    "for year in df['year']:\n",
    "    if year >= 1980 and year <= 2009:\n",
    "        sum_fatls += df.iloc[i, 8]\n",
    "        i+=1\n",
    "        crashes +=1\n",
    "    else:\n",
    "        i+=1"
   ]
  },
  {
   "cell_type": "code",
   "execution_count": 13,
   "metadata": {},
   "outputs": [
    {
     "name": "stdout",
     "output_type": "stream",
     "text": [
      "24.93\n"
     ]
    }
   ],
   "source": [
    "print(round(sum_fatls/crashes,2))"
   ]
  },
  {
   "cell_type": "code",
   "execution_count": 15,
   "metadata": {},
   "outputs": [
    {
     "name": "stdout",
     "output_type": "stream",
     "text": [
      "         year  aboard  fatalities\n",
      "month                            \n",
      "1      505482    7330        5520\n",
      "2      414111    7937        5266\n",
      "3      497151    7964        6276\n",
      "4      404027    6266        4274\n",
      "5      358886    5819        4604\n",
      "6      400417    7629        5100\n",
      "7      464187    9372        6457\n",
      "8      474147    9649        6786\n",
      "9      451950    9090        7119\n",
      "10     444027    6442        5099\n",
      "11     455474    9252        6938\n",
      "12     499182   10279        6498\n"
     ]
    }
   ],
   "source": [
    "print(df.groupby('month').sum())"
   ]
  },
  {
   "cell_type": "code",
   "execution_count": 16,
   "metadata": {},
   "outputs": [
    {
     "name": "stdout",
     "output_type": "stream",
     "text": [
      "583\n"
     ]
    }
   ],
   "source": [
    "print(df['fatalities'].max())"
   ]
  },
  {
   "cell_type": "code",
   "execution_count": 38,
   "metadata": {},
   "outputs": [],
   "source": [
    "fatl_crash=0\n",
    "nonfatl=0\n",
    "i=0\n",
    "for year in df['year']:\n",
    "    if df.iloc[i,8]>0:\n",
    "        fatl_crash +=1\n",
    "        i+=1\n",
    "    else:\n",
    "        nonfatl += 1\n",
    "        i+=1"
   ]
  },
  {
   "cell_type": "code",
   "execution_count": 40,
   "metadata": {},
   "outputs": [
    {
     "name": "stdout",
     "output_type": "stream",
     "text": [
      "98.19121447028424\n"
     ]
    }
   ],
   "source": [
    "print(fatl_crash/(fatl_crash+nonfatl)*100)"
   ]
  },
  {
   "cell_type": "code",
   "execution_count": 44,
   "metadata": {},
   "outputs": [
    {
     "name": "stdout",
     "output_type": "stream",
     "text": [
      "72.0784507724\n"
     ]
    }
   ],
   "source": [
    "print(df['fatalities'].sum()/df['aboard'].sum()*100)"
   ]
  },
  {
   "cell_type": "code",
   "execution_count": 47,
   "metadata": {},
   "outputs": [],
   "source": [
    "df['fatl_percent'] = df['fatalities']/df['aboard']"
   ]
  },
  {
   "cell_type": "code",
   "execution_count": 49,
   "metadata": {},
   "outputs": [
    {
     "data": {
      "text/plain": [
       "82.313192235105632"
      ]
     },
     "execution_count": 49,
     "metadata": {},
     "output_type": "execute_result"
    }
   ],
   "source": [
    "df['fatl_percent'].mean()*100"
   ]
  },
  {
   "cell_type": "code",
   "execution_count": null,
   "metadata": {},
   "outputs": [],
   "source": []
  }
 ],
 "metadata": {
  "kernelspec": {
   "display_name": "Python 3",
   "language": "python",
   "name": "python3"
  },
  "language_info": {
   "codemirror_mode": {
    "name": "ipython",
    "version": 3
   },
   "file_extension": ".py",
   "mimetype": "text/x-python",
   "name": "python",
   "nbconvert_exporter": "python",
   "pygments_lexer": "ipython3",
   "version": "3.6.3"
  }
 },
 "nbformat": 4,
 "nbformat_minor": 2
}
