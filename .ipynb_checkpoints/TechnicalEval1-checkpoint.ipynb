{
 "cells": [
  {
   "cell_type": "code",
   "execution_count": 86,
   "metadata": {},
   "outputs": [],
   "source": [
    "import pandas as pd\n",
    "import numpy as np\n",
    "import matplotlib.pyplot as plt\n",
    "import statistics\n",
    "%matplotlib inline"
   ]
  },
  {
   "cell_type": "code",
   "execution_count": 87,
   "metadata": {},
   "outputs": [],
   "source": [
    "df = pd.read_csv(\"plane_crashes_data.csv\")"
   ]
  },
  {
   "cell_type": "code",
   "execution_count": 88,
   "metadata": {},
   "outputs": [
    {
     "name": "stdout",
     "output_type": "stream",
     "text": [
      "   month hour  year                         location  \\\n",
      "0      1   12  1950              Near Vacas, Bolivia   \n",
      "1      3   20  1950           Minneapolis, Minnesota   \n",
      "2      3   14  1950  Llandow Airport, Cardiff, Wales   \n",
      "3      4   23  1950               Near Atsugi, Japan   \n",
      "4      5   20  1950    Lagens Air Force Base, Azores   \n",
      "\n",
      "                        operator                          route  \\\n",
      "0  Military - Bolivian Air Force      Valle grande - Cochabamba   \n",
      "1      Northwest Orient Airlines  Rochester Minn. - Minneapolis   \n",
      "2                Fairflight Ltd.               Llandow - Dublin   \n",
      "3      Military - U.S. Air Force            Philippines - Japan   \n",
      "4      Military - U.S. Air Force              Bermuda - England   \n",
      "\n",
      "               type  aboard  fatalities  \\\n",
      "0      Douglas C-47      32          32   \n",
      "1        Martin 202      13          13   \n",
      "2  Avro 689 Tudor 5      83          80   \n",
      "3     Douglas C-54D      35          35   \n",
      "4       Boeing B-29      16          16   \n",
      "\n",
      "                                             summary  \n",
      "0  Crashed while en route in the Andes mountains ...  \n",
      "1  Crashed into a flag pole, well marked by red n...  \n",
      "2  During the approach to Runway 28 at Llandow Ai...  \n",
      "3  Flew off its prescribed course and crashed int...  \n",
      "4  Crashed while attempting to land after being d...  \n"
     ]
    }
   ],
   "source": [
    "print(df.head())"
   ]
  },
  {
   "cell_type": "markdown",
   "metadata": {},
   "source": [
    "What is the mean for number of people killed in plane crashes for the years 1980 to 2009 (inclusive of both years, rounded to the nearest 100th decimal place)?"
   ]
  },
  {
   "cell_type": "code",
   "execution_count": 96,
   "metadata": {},
   "outputs": [],
   "source": [
    "year_fatl = {}\n",
    "i=0\n",
    "y_index = 1979\n",
    "for year in df['year']:\n",
    "    if year >= 1980 and year <= 2009:\n",
    "        if y_index != year:\n",
    "            year_fatl[str(year)] = df.iloc[i,8]\n",
    "            i+=1\n",
    "            y_index +=1\n",
    "        else:\n",
    "            year_fatl[str(year)] = year_fatl[str(year)] + df.iloc[i,8]\n",
    "            i+=1\n",
    "    else:\n",
    "        i+=1"
   ]
  },
  {
   "cell_type": "code",
   "execution_count": 99,
   "metadata": {},
   "outputs": [
    {
     "name": "stdout",
     "output_type": "stream",
     "text": [
      "{'1980': 1402, '1981': 718, '1982': 1246, '1983': 1250, '1984': 454, '1985': 2330, '1986': 1008, '1987': 1252, '1988': 1608, '1989': 1823, '1990': 764, '1991': 1203, '1992': 1473, '1993': 1089, '1994': 1545, '1995': 1177, '1996': 2204, '1997': 1530, '1998': 1432, '1999': 870, '2000': 1331, '2001': 1329, '2002': 1238, '2003': 1119, '2004': 700, '2005': 1277, '2006': 1116, '2007': 764, '2008': 810, '2009': 564}\n"
     ]
    }
   ],
   "source": [
    "print(year_fatl)"
   ]
  },
  {
   "cell_type": "code",
   "execution_count": 101,
   "metadata": {},
   "outputs": [],
   "source": [
    "sum_fatl = 0\n",
    "num_yrs = 0\n",
    "for item in year_fatl:\n",
    "    sum_fatl += year_fatl[item]\n",
    "    num_yrs += 1"
   ]
  },
  {
   "cell_type": "code",
   "execution_count": 107,
   "metadata": {},
   "outputs": [
    {
     "name": "stdout",
     "output_type": "stream",
     "text": [
      "1220.87\n"
     ]
    }
   ],
   "source": [
    "average = sum_fatl / num_yrs\n",
    "print(round(average,2))"
   ]
  },
  {
   "cell_type": "code",
   "execution_count": null,
   "metadata": {},
   "outputs": [],
   "source": []
  },
  {
   "cell_type": "code",
   "execution_count": null,
   "metadata": {},
   "outputs": [],
   "source": []
  }
 ],
 "metadata": {
  "kernelspec": {
   "display_name": "Python 3",
   "language": "python",
   "name": "python3"
  },
  "language_info": {
   "codemirror_mode": {
    "name": "ipython",
    "version": 3
   },
   "file_extension": ".py",
   "mimetype": "text/x-python",
   "name": "python",
   "nbconvert_exporter": "python",
   "pygments_lexer": "ipython3",
   "version": "3.6.3"
  }
 },
 "nbformat": 4,
 "nbformat_minor": 2
}
